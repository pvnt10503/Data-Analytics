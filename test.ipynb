{
 "cells": [
  {
   "cell_type": "code",
   "execution_count": 17,
   "id": "2852a6be-1ce3-4385-bbab-6552d6980747",
   "metadata": {},
   "outputs": [
    {
     "data": {
      "text/plain": [
       "4"
      ]
     },
     "execution_count": 17,
     "metadata": {},
     "output_type": "execute_result"
    }
   ],
   "source": [
    "2+2"
   ]
  },
  {
   "cell_type": "markdown",
   "id": "474cd8e8",
   "metadata": {},
   "source": [
    "# Heading 1\n",
    "## heading 2\n",
    "#### Heading 4\n",
    "* bullet point 1\n",
    "* bullet point 2\n",
    "This is an MD cell"
   ]
  },
  {
   "cell_type": "code",
   "execution_count": 35,
   "id": "3c4e8930",
   "metadata": {},
   "outputs": [],
   "source": [
    "num1 = 10\n",
    "num2 = 5\n",
    "total = num1 + num2"
   ]
  },
  {
   "cell_type": "code",
   "execution_count": 36,
   "id": "ad274c57",
   "metadata": {},
   "outputs": [
    {
     "name": "stdout",
     "output_type": "stream",
     "text": [
      "st python tutorial\n",
      "st R tutorial\n",
      "st SQL tutorial 14\n"
     ]
    },
    {
     "data": {
      "text/plain": [
       "list"
      ]
     },
     "execution_count": 36,
     "metadata": {},
     "output_type": "execute_result"
    }
   ],
   "source": [
    "var1=5*2+4\n",
    "str1 = 'st python tutorial'\n",
    "str1\n",
    "print(str1)\n",
    "x ='R'\n",
    "print('st {} tutorial'.format(x))\n",
    "x='SQL' \n",
    "print('st {} tutorial {}'.format(x,var1))\n",
    "len(str1)\n",
    "str1.replace('python','SQL')\n",
    "x = str1.replace('python','SQL')\n",
    "x[1]\n",
    "x[4:6]\n",
    "type(var1)\n",
    "type(x)\n",
    "\n",
    "list"
   ]
  },
  {
   "cell_type": "code",
   "execution_count": 78,
   "id": "bad0e385",
   "metadata": {},
   "outputs": [
    {
     "name": "stdout",
     "output_type": "stream",
     "text": [
      "[1, 2, 3, 4, 5]\n",
      "[[1, 'a', 1.0], 1, 2.0]\n"
     ]
    },
    {
     "data": {
      "text/plain": [
       "[5, 7, 2, 0, 10]"
      ]
     },
     "execution_count": 78,
     "metadata": {},
     "output_type": "execute_result"
    }
   ],
   "source": [
    "l1=[1,2,3,4,5]\n",
    "type(l1)\n",
    "print(l1)\n",
    "l1[0]\n",
    "l1[0:3]\n",
    "l1[::2]\n",
    "l2 =[1,'a',1.0]\n",
    "type(l2[0])\n",
    "type(l2[1])\n",
    "l3=[l2,1,2.0]\n",
    "print(l3)\n",
    "type(l3[0])\n",
    "l3[0][1]\n",
    "l4 = list(range(0,10,2))\n",
    "l4.sort(reverse= True)\n",
    "l4.append(10)\n",
    "l4[0]=3\n",
    "l4[1:3]=[5,7]\n",
    "l4.insert(0,'15')\n",
    "l4\n",
    "l4.remove(3)\n",
    "l4\n",
    "del l4[0]\n",
    "l4"
   ]
  },
  {
   "cell_type": "markdown",
   "id": "00d87be4",
   "metadata": {},
   "source": [
    "Tuples"
   ]
  },
  {
   "cell_type": "code",
   "execution_count": 5,
   "id": "f5394fcc",
   "metadata": {},
   "outputs": [
    {
     "data": {
      "text/plain": [
       "tuple"
      ]
     },
     "execution_count": 5,
     "metadata": {},
     "output_type": "execute_result"
    }
   ],
   "source": [
    "t1=(1,2)\n",
    "t1\n",
    "type(t1)"
   ]
  },
  {
   "cell_type": "markdown",
   "id": "498cb524",
   "metadata": {},
   "source": [
    "Dictionary"
   ]
  },
  {
   "cell_type": "code",
   "execution_count": 87,
   "id": "4d414bcb",
   "metadata": {},
   "outputs": [
    {
     "data": {
      "text/plain": [
       "1"
      ]
     },
     "execution_count": 87,
     "metadata": {},
     "output_type": "execute_result"
    }
   ],
   "source": [
    "d1={'key1': 1,\n",
    "    'key2': 2,\n",
    "    'key3': 3}\n",
    "d1\n",
    "type(d1)\n",
    "d1['key1']"
   ]
  }
 ],
 "metadata": {
  "kernelspec": {
   "display_name": "Python 3 (ipykernel)",
   "language": "python",
   "name": "python3"
  },
  "language_info": {
   "codemirror_mode": {
    "name": "ipython",
    "version": 3
   },
   "file_extension": ".py",
   "mimetype": "text/x-python",
   "name": "python",
   "nbconvert_exporter": "python",
   "pygments_lexer": "ipython3",
   "version": "3.12.6"
  }
 },
 "nbformat": 4,
 "nbformat_minor": 5
}
